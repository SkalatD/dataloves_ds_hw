{
 "cells": [
  {
   "cell_type": "markdown",
   "metadata": {
    "id": "SDhaTqxcWhnP"
   },
   "source": [
    "В цьому домашньому завданні відпрацюємо з вами знання, отримані в модулі зі статистики."
   ]
  },
  {
   "cell_type": "code",
   "execution_count": 73,
   "metadata": {
    "id": "SDhaTqxcWhnP"
   },
   "outputs": [],
   "source": [
    "import numpy as np  # for all notebook"
   ]
  },
  {
   "cell_type": "markdown",
   "metadata": {
    "id": "SDhaTqxcWhnP"
   },
   "source": [
    "**Завдання 1.** Ми обговорили з Вами на лекції, що велика літера Сігма грецького алфавіту позначає в математиці суму. Знайдіть з використанням Python $\\Sigma x$, $\\Sigma x^2$, та $\\Sigma (x-1)^2$ для наступного набору даних:\n",
    "`1 3 4`\n",
    "Виведіть результат кожного обчислення на екран."
   ]
  },
  {
   "cell_type": "code",
   "execution_count": 74,
   "metadata": {
    "id": "B1mgx_IBT0e8"
   },
   "outputs": [],
   "source": [
    "data_set = [1, 2, 3]"
   ]
  },
  {
   "cell_type": "code",
   "execution_count": 77,
   "metadata": {},
   "outputs": [
    {
     "name": "stdout",
     "output_type": "stream",
     "text": [
      "\tСума елементів набору даних:  6\n",
      "\tСума квадратів елементів набору даних:  14\n",
      "\tСума квадратів віднімання 1 від елементів даних:  5\n"
     ]
    }
   ],
   "source": [
    "# З допомогою Python\n",
    "x_sum = sum(data_set)\n",
    "print(\"\\tСума елементів набору даних: \", x_sum)\n",
    "x_sum_squared = sum(element ** 2 for element in x)\n",
    "print(\"\\tСума квадратів елементів набору даних: \", x_sum_squared)\n",
    "x_sum_x_min_1_squared = sum((element - 1) ** 2 for element in x)\n",
    "print(\"\\tСума квадратів віднімання 1 від елементів даних: \", x_sum_x_min_1_squared)"
   ]
  },
  {
   "cell_type": "code",
   "execution_count": 78,
   "metadata": {
    "id": "B1mgx_IBT0e8"
   },
   "outputs": [
    {
     "name": "stdout",
     "output_type": "stream",
     "text": [
      "\tСума елементів набору даних:  6\n",
      "\tСума квадратів елементів набору даних:  14\n",
      "\tСума квадратів віднімання 1 від елементів даних:  5\n"
     ]
    }
   ],
   "source": [
    "# З допомогою бібліотеки numpy\n",
    "y = np.array(data_set)\n",
    "y_sum = np.sum(y)\n",
    "print(\"\\tСума елементів набору даних: \", y_sum)\n",
    "y_sum_squared = np.sum(y**2)\n",
    "print(\"\\tСума квадратів елементів набору даних: \", y_sum_squared)\n",
    "y_sum_y_min_1_squared = np.sum((y-1)**2)\n",
    "print(\"\\tСума квадратів віднімання 1 від елементів даних: \", y_sum_y_min_1_squared)"
   ]
  },
  {
   "cell_type": "markdown",
   "metadata": {
    "id": "fa78aW5lhiia"
   },
   "source": [
    "**Завдання 2.** Ми зібрали дані про суму покупок в гривнях 20ма випадково обраними клієнтами в нашому магазині (всього клієнтів у нас більше) за минулий місяць. Вони представлені в змінній `sum_purchases`. Знайдіть **вибіркове середнє** для цих даних кожним з зазначених методів:   \n",
    "\n",
    "  2.1. без використання жодних бібліотек, користуючись тільки Python.  \n",
    "  2.2. використовуючи відповідний метод бібліотеки `numpy`.\n",
    "\n",
    "  Виведіть результат обчислень в кожному з випадків на екран та порівняйте результати. Вони співпадають?"
   ]
  },
  {
   "cell_type": "code",
   "execution_count": 110,
   "metadata": {
    "id": "_9kMt3rq6V5m"
   },
   "outputs": [],
   "source": [
    "sum_purchases = [ 316,  493,  367,  153,  224,  121,  322,  450,  196,  397,  281, 239,  484,  124,  223,  448,  432,  255, 4310, 3524]"
   ]
  },
  {
   "cell_type": "code",
   "execution_count": 80,
   "metadata": {},
   "outputs": [
    {
     "name": "stdout",
     "output_type": "stream",
     "text": [
      "\tВибіркове середнє з чистим Python:  667.95\n"
     ]
    }
   ],
   "source": [
    "# 2.1. без використання жодних бібліотек, користуючись тільки Python\n",
    "purchases_mean_1 = sum(sum_purchases)/len(sum_purchases)\n",
    "print(\"\\tВибіркове середнє з чистим Python: \", purchases_mean_1)"
   ]
  },
  {
   "cell_type": "code",
   "execution_count": 81,
   "metadata": {
    "id": "wPmL919HT1c0"
   },
   "outputs": [
    {
     "name": "stdout",
     "output_type": "stream",
     "text": [
      "\tВибіркове середнє з бібліотекою numpy:  667.95\n"
     ]
    }
   ],
   "source": [
    "# 2.2. використовуючи відповідний метод бібліотеки numpy\n",
    "purchases_mean_2 = np.mean(sum_purchases)\n",
    "print(\"\\tВибіркове середнє з бібліотекою numpy: \", purchases_mean_2)"
   ]
  },
  {
   "cell_type": "markdown",
   "metadata": {
    "id": "FMdoxZd0kZdW"
   },
   "source": [
    "**Завдання 3.** Для того ж набору даних в змінній `sum_purchases` обчисліть **медіану** кожним з зазначених методів:  \n",
    "\n",
    "  3.1. без використання жодних бібліотек, користуючись тільки Python.  \n",
    "  3.2. використовуючи відповідний метод бібліотеки numpy.  \n",
    "\n",
    "Виведіть результат обчислень в кожному з випадків на екран. Порівняйте результати зі значенням вибіркового середнього. Напишіть коментар, для яких задач ви б використовували вибіркове середнє, а для яких - медіану?"
   ]
  },
  {
   "cell_type": "code",
   "execution_count": 82,
   "metadata": {
    "id": "x58BumvuT2nl"
   },
   "outputs": [
    {
     "name": "stdout",
     "output_type": "stream",
     "text": [
      "\tМедіана з чистим Python:  319.0\n"
     ]
    }
   ],
   "source": [
    "# 3.1. без використання жодних бібліотек, користуючись тільки Python\n",
    "def get_median(data):\n",
    "    len_data = len(data)\n",
    "    sorted_data = sorted(data)\n",
    "    if len_data % 2 != 0:\n",
    "        return sorted_data[len_data//2]\n",
    "    else:\n",
    "        elem1 = sorted_data[len_data//2-1]\n",
    "        elem2 = sorted_data[len_data//2]\n",
    "        return (elem1 + elem2) / 2\n",
    "\n",
    "print(\"\\tМедіана з чистим Python: \", get_median(sum_purchases))"
   ]
  },
  {
   "cell_type": "code",
   "execution_count": 83,
   "metadata": {},
   "outputs": [
    {
     "name": "stdout",
     "output_type": "stream",
     "text": [
      "\tМедіана з бібліотекою numpy:  319.0\n"
     ]
    }
   ],
   "source": [
    "# 3.2. використовуючи відповідний метод бібліотеки numpy\n",
    "print(\"\\tМедіана з бібліотекою numpy: \", np.median(sum_purchases))"
   ]
  },
  {
   "cell_type": "markdown",
   "metadata": {},
   "source": [
    "Значення вибіркового середнього - **667.95**\n",
    "Значення медіани - **319.0**\n",
    "Я бачу, що значення вибіркового середнього більше приблизно вдвічі від медіани. Так сталося, адже в нас в *sum_purchases* два останніх значення \"випадають\" - суттєво більші за всі інші. Коли така ситуація - нам треба користвуватися значенням медіани, адже воно більш реалістично відображає \"серединку\".\n",
    "Мій вердикт - використовувати тут **медіану**."
   ]
  },
  {
   "cell_type": "markdown",
   "metadata": {
    "id": "o1Z7az2yNDQV"
   },
   "source": [
    "**Завдання 4**. Обчислість стандартне відхилення наведеної вибірки в змінній `sum_purchases` кожним з зазначених методів:  \n",
    "\n",
    "  4.1. без використання жодних бібліотек, користуючись тільки Python.  \n",
    "  4.2. використовуючи відповідний метод бібліотеки numpy.  \n",
    "\n",
    "Виведіть результат обчислень в кожному з випадків на екран."
   ]
  },
  {
   "cell_type": "code",
   "execution_count": 84,
   "metadata": {
    "id": "X4ixtmL2T642"
   },
   "outputs": [
    {
     "name": "stdout",
     "output_type": "stream",
     "text": [
      "\tСтандартне відхилення з чистим Python:  1124.5433447451132\n"
     ]
    }
   ],
   "source": [
    "# 4.1. без використання жодних бібліотек, користуючись тільки Python\n",
    "def get_std(data):\n",
    "    data_len = len(data)\n",
    "    data_mean = sum(data) / data_len\n",
    "    data_minus_mean = [(element - data_mean) ** 2 for element in data]\n",
    "    if len(data) > 30:\n",
    "        return (sum(data_minus_mean) / data_len) ** 0.5\n",
    "    else:\n",
    "        return (sum(data_minus_mean) / (data_len - 1)) ** 0.5\n",
    "\n",
    "print(\"\\tСтандартне відхилення з чистим Python: \", get_std(sum_purchases))"
   ]
  },
  {
   "cell_type": "code",
   "execution_count": 85,
   "metadata": {},
   "outputs": [
    {
     "name": "stdout",
     "output_type": "stream",
     "text": [
      "\tСтандартне відхилення з бібліотекою numpy:  1124.5433447451132\n"
     ]
    }
   ],
   "source": [
    "# 4.2. використовуючи відповідний метод бібліотеки numpy\n",
    "def get_std_with_numpy(data):\n",
    "    if len(data) > 30:\n",
    "        return np.std(data)\n",
    "    else:\n",
    "        return np.std(data, ddof=1)\n",
    "\n",
    "print(\"\\tСтандартне відхилення з бібліотекою numpy: \", get_std_with_numpy(sum_purchases))"
   ]
  },
  {
   "cell_type": "markdown",
   "metadata": {
    "id": "M1ntKTjXLVlH"
   },
   "source": [
    "**Завдання 5**. Ми провели дослідження віку студентів-першокурсників. Виявилось, що\n",
    "- 10 студентів мають вік 16 років\n",
    "- 25 студентів - 17 років\n",
    "- 20 студентів - 18 років\n",
    "- 2 студенти - 20 років\n",
    "\n",
    "Обчислість середнє значення для цієї вибірки будь-яким способом - на чистому Python або з numpy - та виведіть результат на екран."
   ]
  },
  {
   "cell_type": "code",
   "execution_count": 63,
   "metadata": {},
   "outputs": [],
   "source": [
    "num_students = [10, 25, 20, 2]\n",
    "years = [16, 17, 18, 20]"
   ]
  },
  {
   "cell_type": "code",
   "execution_count": 86,
   "metadata": {},
   "outputs": [
    {
     "name": "stdout",
     "output_type": "stream",
     "text": [
      "\tСередній вік студента - Python:  17.280701754385966\n"
     ]
    }
   ],
   "source": [
    "# на чистому Python\n",
    "sum_students = sum(num_students)\n",
    "students_info = [num * age for num, age in zip(num_students, years)]\n",
    "average_age = sum(students_info) / sum_students\n",
    "print(\"\\tСередній вік студента - Python: \", average_age)"
   ]
  },
  {
   "cell_type": "code",
   "execution_count": 87,
   "metadata": {
    "id": "RdIU4M-7T8R4"
   },
   "outputs": [
    {
     "name": "stdout",
     "output_type": "stream",
     "text": [
      "\tСередній вік студента - numpy:  17.280701754385966\n"
     ]
    }
   ],
   "source": [
    "# З numpy\n",
    "average_age = np.average(years, weights=num_students)\n",
    "print(\"\\tСередній вік студента - numpy: \", average_age)"
   ]
  },
  {
   "cell_type": "markdown",
   "metadata": {
    "id": "Xx8MFkkVM53z"
   },
   "source": [
    "**Завдання 6**. Крім даних про суму покупок, ми зібрали ще дані про кількість відвідувань кожного з кожного покупця, які знаходяться в змінній `visits`. Обчисліть коефіцієнт кореляції Пірсона для суми покупок і кількості відвідувань кожним з зазначених методів:  \n",
    "\n",
    "  6.1. без використання жодних бібліотек, користуючись тільки Python.  \n",
    "  6.2. використовуючи відповідний метод бібліотеки numpy.  \n",
    "  \n",
    "Виведіть результат на екран. Проаналізуйте результат.\n",
    "\n",
    "Виведіть додатково графік розсіювання викликавши код нижче і зробіть заключення, чи варто щось змінити при підрахунку кореляції, аби коефіцієнт Пірсона показував коректну оцінку лінійної залежності?"
   ]
  },
  {
   "cell_type": "code",
   "execution_count": 107,
   "metadata": {
    "id": "4OIGBT7UOWhO"
   },
   "outputs": [],
   "source": [
    "visits = [ 6,  2, 10,  3,  9,  9,  2,  3,  6,  6, 10,  2,  5, 10,  3,  5,  4, 7,  4,  2]"
   ]
  },
  {
   "cell_type": "code",
   "execution_count": 108,
   "metadata": {
    "id": "YLNF7VbeT97Q"
   },
   "outputs": [
    {
     "name": "stdout",
     "output_type": "stream",
     "text": [
      "\tКоефіцієнт кореляції Пірсона для суми покупок і кількості відвідувань - Python:  -0.3511526025862444\n"
     ]
    }
   ],
   "source": [
    "# 6.1. без використання жодних бібліотек, користуючись тільки Python\n",
    "x = sum_purchases\n",
    "y = visits\n",
    "\n",
    "x_mean = sum(x)/len(x)\n",
    "y_mean = sum(y)/len(y)\n",
    "\n",
    "x_minus_mean = [elem - x_mean for elem in x]\n",
    "y_minus_mean = [elem - y_mean for elem in y]\n",
    "\n",
    "multiply_minus_means = [a * b for a, b in zip(x_minus_mean, y_minus_mean)]\n",
    "\n",
    "squared_x_minus_mean = [item ** 2 for item in x_minus_mean]\n",
    "squared_y_minus_mean = [item ** 2 for item in y_minus_mean]\n",
    "\n",
    "result = sum(multiply_minus_means) / ((sum(squared_x_minus_mean) * sum(squared_y_minus_mean)) ** 0.5)\n",
    "\n",
    "print(\"\\tКоефіцієнт кореляції Пірсона для суми покупок і кількості відвідувань - Python: \", result)"
   ]
  },
  {
   "cell_type": "code",
   "execution_count": 111,
   "metadata": {},
   "outputs": [
    {
     "name": "stdout",
     "output_type": "stream",
     "text": [
      "\tКоефіцієнт кореляції Пірсона для суми покупок і кількості відвідувань - numpy:  -0.3026584468766646\n"
     ]
    }
   ],
   "source": [
    "# 6.2. використовуючи відповідний метод бібліотеки numpy\n",
    "print(\"\\tКоефіцієнт кореляції Пірсона для суми покупок і кількості відвідувань - numpy: \", np.corrcoef(sum_purchases, visits)[0][1])"
   ]
  },
  {
   "cell_type": "code",
   "execution_count": 99,
   "metadata": {
    "colab": {
     "base_uri": "https://localhost:8080/",
     "height": 472
    },
    "id": "gaeoGA-5Prr1",
    "outputId": "0c910a7f-0e96-449a-881d-1efa453b3c8d"
   },
   "outputs": [
    {
     "data": {
      "image/png": "[encoded data removed]",
      "text/plain": [
       "<Figure size 640x480 with 1 Axes>"
      ]
     },
     "metadata": {},
     "output_type": "display_data"
    }
   ],
   "source": [
    "import matplotlib.pyplot as plt\n",
    "\n",
    "plt.scatter(sum_purchases, visits)\n",
    "plt.title('Scatter Plot of Purchases vs. Visits', color=\"green\")\n",
    "plt.xlabel('Sum of Purchases', color=\"blue\")\n",
    "plt.ylabel('Number of Visits', color=\"blue\");"
   ]
  },
  {
   "cell_type": "markdown",
   "metadata": {},
   "source": [
    "В нас є викид (два значення дуже віддалені від усіх інших), а тому не побудувалася якась нормальна залежність.\n",
    "Сам коефіцієнт кореляції Пірсона негативний (**-0.30265844687666454**) - але за графіком ми можемо зрозуміти, що кореляція дуже слабка через дві точки - ті наші викиди (немає чітко спадаючої лінії).\n",
    "Можливо, для покращення ситуації ми можемо проаналізувати чи ці дві точки - суттєві в наших даних і якщо ні - то виключити їх з нашого розрахунку. Наприклад, якщо це покупки - то це якісь два винятки, коли прийшов директор магазину і сам собі купив 2 рази купу товару з дивних причин і такого зазвичай не відбувається, тому ми їх виключимо з наших досліджень. І тоді коефіцієнт кореляції Пірсона буде ось такий:"
   ]
  },
  {
   "cell_type": "code",
   "execution_count": 144,
   "metadata": {},
   "outputs": [
    {
     "name": "stdout",
     "output_type": "stream",
     "text": [
      "\tКоефіцієнт кореляції Пірсона без викидів:  -0.3685212078127798\n"
     ]
    },
    {
     "data": {
      "image/png": "[encoded data removed]",
      "text/plain": [
       "<Figure size 640x480 with 1 Axes>"
      ]
     },
     "metadata": {},
     "output_type": "display_data"
    }
   ],
   "source": [
    "a = [316,  493,  367,  153,  224,  121,  322,  450,  196,  397,  281, 239,  484,  124,  223,  448,  432,  255]\n",
    "b = [6,  2, 10,  3,  9,  9,  2,  3,  6,  6, 10,  2,  5, 10,  3,  5,  4, 7]\n",
    "print(\"\\tКоефіцієнт кореляції Пірсона без викидів: \", np.corrcoef(a, b)[0][1])\n",
    "plt.scatter(sum_purchases_short, visits_short)\n",
    "plt.title('Scatter Plot of Purchases vs. Visits - emissions-free', color=\"green\")\n",
    "plt.xlabel('Sum of Purchases', color=\"blue\")\n",
    "plt.ylabel('Number of Visits', color=\"blue\");"
   ]
  },
  {
   "cell_type": "markdown",
   "metadata": {},
   "source": [
    "Але навіть після цього ми бачимо що кореляція дуже і дуже слабка. І мабуть, треба розраховувати кореляцію якимось іншим способом, не коефіцієнтом Пірсона. Але яким - я не знаю бо я перший раз в тому житті дізналася про коефіцієнт Пірсона :)"
   ]
  },
  {
   "cell_type": "markdown",
   "metadata": {
    "id": "4pEg0KzSQ6KA"
   },
   "source": [
    "**Завдання 7**. В попередньому завданні ми помітили, що викиди нам заважають отримати \"правдиве\" значення кореляції. Давайте вилучимо записи, які відповідають значенням з викидами в сумі покупок і обчисліть коеф. кореляції. Для цього поставте `threshold`, який дорінює середньому значенню + 2 стандартних вдіхилля суми покупок і всі значення, які більше за нього, будемо вважати викидами (є і інші правила для визначення викидів - з ним и познайомимось пізніше).\n",
    "\n",
    "Вилучіть значення з обох масивів і обчисліть коеф. кореляції Пірсона з допомогою `numpy` для кількості візитів і суми покупок без записів-викидів. Виведіть результат на екран, побудуйте діаграму розсіювання і проаналізуйте результат: що можемо сказати про залежність в даних?"
   ]
  },
  {
   "cell_type": "markdown",
   "metadata": {},
   "source": [
    "*Я написала все що вище а тоді прочитала наступне завдання (ну вже не видалятиму))*"
   ]
  },
  {
   "cell_type": "code",
   "execution_count": 139,
   "metadata": {
    "id": "Yj3Yfaf7UBbc"
   },
   "outputs": [
    {
     "name": "stdout",
     "output_type": "stream",
     "text": [
      "\tПокупки без викидів:  (316, 493, 367, 153, 224, 121, 322, 450, 196, 397, 281, 239, 484, 124, 223, 448, 432, 255)\n",
      "\tВізити без викидів:  (6, 2, 10, 3, 9, 9, 2, 3, 6, 6, 10, 2, 5, 10, 3, 5, 4, 7)\n"
     ]
    }
   ],
   "source": [
    "purchases_mean_th = np.mean(sum_purchases)\n",
    "purchases_std_th = np.std(sum_purchases, ddof=1)\n",
    "threshold = purchases_mean_th + (2 * purchases_std_th)  # поріг значення\n",
    "\n",
    "# Треба видалити відповідні візити до \"викидних\" значень покупок...\n",
    "short_pur_val = [(pur_val, vis_val) for pur_val, vis_val in zip(sum_purchases, visits) if pur_val <= threshold]\n",
    "pur_values, vis_values = zip(*short_pur_val)\n",
    "print(\"\\tПокупки без викидів: \", pur_values)\n",
    "print(\"\\tВізити без викидів: \", vis_values)"
   ]
  },
  {
   "cell_type": "code",
   "execution_count": 152,
   "metadata": {},
   "outputs": [
    {
     "name": "stdout",
     "output_type": "stream",
     "text": [
      "\tКоефіцієнт кореляції Пірсона без викидів:  -0.3685212078127798\n"
     ]
    },
    {
     "data": {
      "image/png": "[encoded data removed]",
      "text/plain": [
       "<Figure size 640x480 with 1 Axes>"
      ]
     },
     "metadata": {},
     "output_type": "display_data"
    }
   ],
   "source": [
    "print(\"\\tКоефіцієнт кореляції Пірсона без викидів: \", np.corrcoef(list(pur_values), list(vis_values))[0][1])\n",
    "plt.scatter(list(pur_values), list(vis_values))\n",
    "plt.title('Scatter Plot of Purchases vs. Visits - emissions-free - NEW', color=\"green\")\n",
    "plt.xlabel('Sum of Purchases', color=\"blue\")\n",
    "plt.ylabel('Number of Visits', color=\"blue\");"
   ]
  },
  {
   "cell_type": "markdown",
   "metadata": {},
   "source": [
    "Як на мене то кореляція або дуже слабка, або взагалі відсутня (судячи з графіка). Тому, гадаю що лінійного взаємозв'язку між змінними sum_purchases і відповідними змінними visits немає."
   ]
  }
 ],
 "metadata": {
  "colab": {
   "provenance": []
  },
  "kernelspec": {
   "display_name": "Python 3 (ipykernel)",
   "language": "python",
   "name": "python3"
  },
  "language_info": {
   "codemirror_mode": {
    "name": "ipython",
    "version": 3
   },
   "file_extension": ".py",
   "mimetype": "text/x-python",
   "name": "python",
   "nbconvert_exporter": "python",
   "pygments_lexer": "ipython3",
   "version": "3.12.8"
  }
 },
 "nbformat": 4,
 "nbformat_minor": 4
}
