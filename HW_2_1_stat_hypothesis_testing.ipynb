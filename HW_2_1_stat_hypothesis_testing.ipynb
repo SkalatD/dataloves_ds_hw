{
 "cells": [
  {
   "cell_type": "markdown",
   "metadata": {
    "id": "ID3uSQHkQJ2J"
   },
   "source": [
    "В цьому ДЗ потренуємось виконувати Z-тести для тестування гіпотез в різних задачах. Для коректної імплементації та інтерпретації тестів рекоемндую переглянути спершу документацію:\n",
    "\n",
    "https://www.statsmodels.org/dev/generated/statsmodels.stats.weightstats.ztest.html"
   ]
  },
  {
   "cell_type": "code",
   "execution_count": 30,
   "metadata": {},
   "outputs": [],
   "source": [
    "import numpy as np\n",
    "from statsmodels.stats.weightstats import ztest\n",
    "from scipy import stats"
   ]
  },
  {
   "cell_type": "code",
   "execution_count": 40,
   "metadata": {},
   "outputs": [],
   "source": [
    "def test_results(z_stat, p_value, alpha):\n",
    "    print(f\"Значення: {z_stat}\")\n",
    "    print(f\"P-значення: {p_value}\")\n",
    "    print(f\"Рівень значущості: {alpha}\")\n",
    "    print(\"---\")\n",
    "    if p_value < alpha:\n",
    "        print(\"\\033[1mВідхилити H0\\033[0m\")\n",
    "    else:\n",
    "        print(\"\\033[1mH0 не можна відхилити\\033[0m\")"
   ]
  },
  {
   "cell_type": "markdown",
   "metadata": {},
   "source": [
    "### Завдання 1: Z-тест для однієї вибірки\n",
    "\n",
    "**Мета**: Перевірити, чи середнє значення вибірки відрізняється від гіпотетичного середнього.\n",
    "\n",
    "**Припущення**: Середній ріст студентів університету вважається 170 см. Ми хочемо перевірити, чи середній ріст випадкової вибірки студентів істотно більший. Вибірка задана в змінній `heights`.\n",
    "\n",
    "Для виконання завдання імпортуйте метод для проведення `ztest`, виконайте Z-тест з Python, виведіть p-value і зробіть заключення, чи справдилось припущення про середній зріст студентів на рівні значущості 0.05?\n",
    "\n",
    "Використовуємо тут Z-тест, оскільки вибірка достатньо велика (більше 30 екземплярів) і можемо вважати, що її стандартне відхилення близьке до ст. відхилення генеральної сукупності, а значить - відоме."
   ]
  },
  {
   "cell_type": "code",
   "execution_count": 5,
   "metadata": {
    "id": "TUYNSCDzRE7N"
   },
   "outputs": [],
   "source": [
    "heights = [174, 171, 175, 179, 170, 170, 179, 175, 169, 174, 169, 169, 173, 162, 163, 169, 166,\n",
    "           173, 167, 164, 179, 170, 172, 164, 169, 175, 169, 174, 169, 169, 173, 162, 177]"
   ]
  },
  {
   "cell_type": "markdown",
   "metadata": {},
   "source": [
    "**H0** - Середній зріст студентів вибірки heights **не відрізняється** від гіпотетичного середнього зросту всіх студентів університету (170см.)\n",
    "\n",
    "**H1** - Середній зріст студентів вибірки heights import **відрізняється** від гіпотетичного середнього зросту всіх студентів університету (170см.)"
   ]
  },
  {
   "cell_type": "markdown",
   "metadata": {},
   "source": [
    "*Оскільки ми хочемо дізнатися чи середнє значення вибірки heights (трошки рандомних студентів) відрізняється від гіпотетичного середнього значення генеральної сукупності (всіх студентів університету), то нашим значенням value я вказую 170см (з умови задачі).*"
   ]
  },
  {
   "cell_type": "code",
   "execution_count": 28,
   "metadata": {
    "id": "uTJEZPARYMd4"
   },
   "outputs": [
    {
     "name": "stdout",
     "output_type": "stream",
     "text": [
      "Z-значення: 0.8482235371587619\n",
      "P-значення: 0.39631349142183503\n",
      "Рівень значущості: 0.05\n",
      "---\n",
      "\u001b[1mH0 не можна відхилити\u001b[0m\n"
     ]
    }
   ],
   "source": [
    "z_stat, p_value = ztest(x1=heights, value=170)\n",
    "\n",
    "test_results(z_stat, p_value, 0.05)"
   ]
  },
  {
   "cell_type": "code",
   "execution_count": 12,
   "metadata": {},
   "outputs": [
    {
     "data": {
      "text/plain": [
       "np.float64(170.6969696969697)"
      ]
     },
     "execution_count": 12,
     "metadata": {},
     "output_type": "execute_result"
    }
   ],
   "source": [
    "np.mean(heights)"
   ]
  },
  {
   "cell_type": "markdown",
   "metadata": {},
   "source": [
    "**ВИСНОВОК**\n",
    "- За висновком z-test ми не можемо відхилити нульову гіпотезу (що середній зріст студентів з нашої вибірки не відрізняється від гіпотетичного середнього зросту всіх студентів в університеті).\n",
    "- Якщо вивести середнє значення вибірки то воно 170.7 що дуже наближено до 170\n",
    "- **Відкидаємо альтернативну гіпотезу H1 - приймаємо нульову гіпотезу H0 - середнє значення вибірки не відрізняється від гіпотетичного середнього**"
   ]
  },
  {
   "cell_type": "markdown",
   "metadata": {
    "id": "ga4iKM9kQa9Q"
   },
   "source": [
    "### Завдання 2: Z-тест для двох незалежних вибірок\n",
    "\n",
    "**Завдання 2.1.**\n",
    "\n",
    "**Мета**: Перевірити, чи існує статистична різниця між середніми оцінками двох груп студентів.\n",
    "\n",
    "**Припущення**: Група A отримала новий навчальний курс, а група B продовжувала зі стандартним курсом. Ми перевіряємо, чи є новий курс ефективнішим.\n",
    "\n",
    "Виконайте Z-тест з Python, виведіть p-value і зробіть заключення, чи справдилось припущення щодо студентів на рівні значущості 0.05?"
   ]
  },
  {
   "cell_type": "code",
   "execution_count": 14,
   "metadata": {
    "id": "SngJjNBJTgBp"
   },
   "outputs": [],
   "source": [
    "group_a_scores = [78.55, 72.25, 79.88, 75.  , 76.54, 74.99, 87.26, 77.93, 72.71,\n",
    "       82.11, 71.9 , 79.04, 68.2 , 71.36, 78.98, 81.69, 78.86, 77.42,\n",
    "       76.49, 70.61, 74.4 , 75.7 , 83.29, 79.72, 69.18, 79.62, 76.07,\n",
    "       74.62, 81.06, 83.15, 82.66, 73.8 , 76.45, 79.66, 82.88, 75.6 ,\n",
    "       77.07, 72.47, 72.02, 82.06]\n",
    "\n",
    "group_b_scores = [81.78, 74.64, 80.02, 76.81, 71.77, 76.81, 82.69, 74.82, 82.82,\n",
    "       61.9 , 79.11, 75.44, 73.5 , 75.46, 65.06, 73.9 , 76.79, 82.39,\n",
    "       72.41, 70.96, 72.49, 79.58, 76.64, 72.35, 77.57, 75.49, 79.84,\n",
    "       71.49, 73.36, 73.04, 67.68, 76.48, 76.31, 75.03, 73.83, 67.92,\n",
    "       72.9 , 73.29, 70.99, 74.19]"
   ]
  },
  {
   "cell_type": "markdown",
   "metadata": {},
   "source": [
    "**H0** - Від зміни навчального курсу, оцінки студентів не змінюються\n",
    "\n",
    "**H1** - Від зміни навчального курсу, оцінки студентів змінюються (покращуються)"
   ]
  },
  {
   "cell_type": "code",
   "execution_count": 29,
   "metadata": {
    "id": "CvftCAEHYPKL"
   },
   "outputs": [
    {
     "name": "stdout",
     "output_type": "stream",
     "text": [
      "Z-значення: 2.357354864751502\n",
      "P-значення: 0.009202824276264007\n",
      "Рівень значущості: 0.05\n",
      "---\n",
      "\u001b[1mВідхилити H0\u001b[0m\n"
     ]
    }
   ],
   "source": [
    "z_stat, p_value = ztest(x1=group_a_scores, x2=group_b_scores, alternative=\"larger\")\n",
    "\n",
    "test_results(z_stat, p_value, 0.05)"
   ]
  },
  {
   "cell_type": "code",
   "execution_count": 23,
   "metadata": {},
   "outputs": [
    {
     "data": {
      "text/plain": [
       "(np.float64(77.08125), np.float64(74.73875000000001))"
      ]
     },
     "execution_count": 23,
     "metadata": {},
     "output_type": "execute_result"
    }
   ],
   "source": [
    "np.mean(group_a_scores), np.mean(group_b_scores)"
   ]
  },
  {
   "cell_type": "markdown",
   "metadata": {},
   "source": [
    "**ВИСНОВОК**\n",
    "- За висновком z-тесту ми можемо відхилити нульову гіпотезу (що від зміни навчального курсу, оцінки студентів не змінюються)\n",
    "- Якщо вивести середні значення вибірок, ми бачимо, що вони різняться і середній бал групи А більший - 77.08125 ніж групи В - 74.73875\n",
    "- **Відкидаємо нульову гіпотезу Н0 - приймаємо альтернативну гіпотезу Н1 - оцінки в групі А кращі ніж в групи В - вводимо новий курс в навчальний процес**"
   ]
  },
  {
   "cell_type": "markdown",
   "metadata": {
    "id": "zOxz2tU0VpJM"
   },
   "source": [
    "**Завдання 2.2.**\n",
    "\n",
    "\n",
    "**Мета**: Побачити, як впливає розмір вибірок на результат тесту.\n",
    "\n",
    "**Завдання**: Уявіть, що з групи А ми маємо тільки перші 5 записів, а з групи В - усі. Таке могло статись, якщо ми вже маємо результати тестів учнів за попередньою програмою, а тести за новою програмою здали наразі лише 5 учнів і ми вирішили не чекати довше.\n",
    "Виберіть перші 5 записів для групи А і проведіть t-test (для цього використовуємо наступний [метод](https://docs.scipy.org/doc/scipy/reference/generated/scipy.stats.ttest_ind.html)). Виведіть значення p-value. Зробіть висновок, який результат ви бачите щодо стат. значущості на рівні 0.05 для цього експерименту?\n",
    "\n",
    "Тут проводимо t-test оскільки одна з вибірок - дуже мала."
   ]
  },
  {
   "cell_type": "code",
   "execution_count": 41,
   "metadata": {},
   "outputs": [
    {
     "name": "stdout",
     "output_type": "stream",
     "text": [
      "Значення: 1.1226527301193456\n",
      "P-значення: 0.3010736990344311\n",
      "Рівень значущості: 0.05\n",
      "---\n",
      "\u001b[1mH0 не можна відхилити\u001b[0m\n"
     ]
    }
   ],
   "source": [
    "t_stat, p_value = stats.ttest_ind(a=group_a_scores[:5], b=group_b_scores, equal_var=False)\n",
    "test_results(t_stat, p_value, 0.05)"
   ]
  },
  {
   "cell_type": "markdown",
   "metadata": {},
   "source": [
    "*Ну, чесно кажучи, це очікувано, що розмір вибірок впливає*"
   ]
  },
  {
   "cell_type": "code",
   "execution_count": 42,
   "metadata": {},
   "outputs": [
    {
     "data": {
      "text/plain": [
       "(np.float64(76.444), np.float64(74.73875000000001))"
      ]
     },
     "execution_count": 42,
     "metadata": {},
     "output_type": "execute_result"
    }
   ],
   "source": [
    "np.mean(group_a_scores[:5]), np.mean(group_b_scores)"
   ]
  },
  {
   "cell_type": "markdown",
   "metadata": {},
   "source": [
    "**ВИСНОВОК**\n",
    "- За висновком t-тесту ми не можемо відхилити нульову гіпотезу (що від зміни навчального курсу, оцінки студентів не змінюються)\n",
    "- Якщо вивести середні значення вибірок, ми бачимо, що вони різняться і середній бал групи А все ж більший - 76.444 ніж групи В - 74.73875, однак так як вказаний рівень значущості 0.05 - ми не можемо відхилити нульову гіпотезу\n",
    "- **Відкидаємо альтернативну гіпотезу Н1 - приймаємо нульову гіпотезу Н0 - не можемо стверджувати, що оцінки в групі А кращі ніж в групи В - поки не вводимо новий курс в навчальний процес для всіх, збираємо більше даних**"
   ]
  },
  {
   "cell_type": "markdown",
   "metadata": {},
   "source": [
    "*Я хочу ще спробувати змінити рівень значущості до 0.02 - адже в лекції Ганна каже, що це для дуже точних розрахунків*"
   ]
  },
  {
   "cell_type": "code",
   "execution_count": 43,
   "metadata": {},
   "outputs": [
    {
     "name": "stdout",
     "output_type": "stream",
     "text": [
      "Значення: 1.1226527301193456\n",
      "P-значення: 0.3010736990344311\n",
      "Рівень значущості: 0.02\n",
      "---\n",
      "\u001b[1mH0 не можна відхилити\u001b[0m\n"
     ]
    }
   ],
   "source": [
    "t_stat, p_value = stats.ttest_ind(a=group_a_scores[:5], b=group_b_scores, equal_var=False)\n",
    "test_results(t_stat, p_value, 0.02)"
   ]
  },
  {
   "cell_type": "markdown",
   "metadata": {},
   "source": [
    "*Все одно не можемо відхилити нульову гіпотезу*"
   ]
  },
  {
   "cell_type": "code",
   "execution_count": 48,
   "metadata": {},
   "outputs": [
    {
     "data": {
      "image/png": "[encoded data removed]",
      "text/plain": [
       "<Figure size 640x480 with 1 Axes>"
      ]
     },
     "metadata": {},
     "output_type": "display_data"
    }
   ],
   "source": [
    "stats.probplot(group_a_scores[:5], dist=\"norm\", plot=plt)\n",
    "plt.title(\"Q-Q графік\")\n",
    "plt.show()"
   ]
  },
  {
   "cell_type": "markdown",
   "metadata": {},
   "source": [
    "**Загальний висновок:** Треба почекати і зробити перевірку коли більше учнів, які вчаться за новою програмою пройдуть тести і отримають оцінки."
   ]
  },
  {
   "cell_type": "markdown",
   "metadata": {
    "id": "3TcRHLLz0SLw"
   },
   "source": [
    "\n",
    "### Завдання 3\\*: Z-тест для двох **пов'язаних** вибірок\n",
    "\n",
    "**Мета**: Перевірити, чи вплинув тренінг на продуктивність працівників, коли всі справробітники проходили тренінг.\n",
    "\n",
    "**Припущення**: Наші працівники проходять однаковий тренінг, і ми хочемо з'ясувати, чи покращилися їхні показники після тренінгу на рівні значущості 0.05. Виконайте Z-тест з Python, виведіть p-value і зробіть заключення, чи поліпшились показники працівників на рівні значущості 0.05?\n",
    "\n",
    "Зверніть увагу, ці вибірки повʼязані між собою, значить не буде коректно виконати z-test між ними, натомість, ми можемо порівняти, чи різниця в результатах (продуктивності співробітників) є стат значущою."
   ]
  },
  {
   "cell_type": "code",
   "execution_count": 49,
   "metadata": {
    "id": "uxrjagJFW1GC"
   },
   "outputs": [],
   "source": [
    "before_training = [57.82, 37.63, 36.8 , 55.22, 52.97, 52.5 , 53.46, 43.2 , 52.32,\n",
    "       52.93, 42.86, 68.66, 54.74, 38.09, 56.57, 40.25, 57.87, 61.59,\n",
    "       41.79, 59.63, 54.13, 58.22, 68.97, 47.55, 42.46, 41.1 , 41.84,\n",
    "       49.23, 53.41, 52.77]\n",
    "\n",
    "after_training = [62.47, 40.66, 42.7 , 57.69, 61.41, 56.76, 54.75, 44.06, 56.29,\n",
    "       55.48, 47.28, 72.6 , 57.59, 39.39, 56.54, 42.36, 62.58, 65.01,\n",
    "       42.3 , 62.98, 57.9 , 59.45, 72.28, 50.66, 43.18, 44.82, 45.96,\n",
    "       54.4 , 58.52, 53.01]"
   ]
  },
  {
   "cell_type": "markdown",
   "metadata": {
    "id": "NwCsN91OYSpN"
   },
   "source": [
    "*Думаю треба скористатися тестом ttest_rel, адже по опису він підходить:*\n",
    "\n",
    "    Calculate the t-test on TWO RELATED samples of scores, a and b.\n",
    "    \n",
    "    This is a test for the null hypothesis that two related or repeated samples have identical average (expected) values.\n",
    "\n",
    "*Example: What is the effect of two different test prep programs on the average exam scores for students from the same class?*"
   ]
  },
  {
   "cell_type": "code",
   "execution_count": 57,
   "metadata": {},
   "outputs": [
    {
     "name": "stdout",
     "output_type": "stream",
     "text": [
      "Значення: -9.13890009623916\n",
      "P-значення: 0.9999999997557063\n",
      "Рівень значущості: 0.05\n",
      "---\n",
      "\u001b[1mH0 не можна відхилити\u001b[0m\n"
     ]
    }
   ],
   "source": [
    "t_stat, p_value = stats.ttest_rel(a=before_training, b=after_training, alternative=\"greater\")\n",
    "test_results(t_stat, p_value, 0.05)"
   ]
  },
  {
   "cell_type": "code",
   "execution_count": 55,
   "metadata": {},
   "outputs": [
    {
     "data": {
      "text/plain": [
       "(np.float64(50.885999999999996), np.float64(54.03600000000001))"
      ]
     },
     "execution_count": 55,
     "metadata": {},
     "output_type": "execute_result"
    }
   ],
   "source": [
    "np.mean(before_training), np.mean(after_training)"
   ]
  },
  {
   "cell_type": "markdown",
   "metadata": {},
   "source": [
    "*По фактичним середнім вибірок, бачимо, що після тренінгу знання трішки кращі*"
   ]
  },
  {
   "cell_type": "code",
   "execution_count": 69,
   "metadata": {},
   "outputs": [
    {
     "data": {
      "image/png": "[encoded data removed]",
      "text/plain": [
       "<Figure size 1000x400 with 2 Axes>"
      ]
     },
     "metadata": {},
     "output_type": "display_data"
    }
   ],
   "source": [
    "fig, axs = plt.subplots(1, 2, figsize=(10, 4))\n",
    "\n",
    "stats.probplot(before_training, dist=\"norm\", plot=axs[0])\n",
    "axs[0].set_title(\"Q-Q графік ДО ТРЕНІНГУ\")\n",
    "\n",
    "stats.probplot(after_training, dist=\"norm\", plot=axs[1])\n",
    "axs[1].set_title(\"Q-Q графік ПІСЛЯ ТРЕНІНГУ\")\n",
    "\n",
    "plt.tight_layout()\n",
    "plt.show()"
   ]
  },
  {
   "cell_type": "markdown",
   "metadata": {},
   "source": [
    "**ВИСНОВОК**\n",
    "- P-значення дуже велике, що не дає нам змоги відкинути нульову гіпотезу. Отже, різниця в результатах (продуктивності співробітників) **НЕ є статистично значущою.**\n",
    "- Моя пропозиція - зробити провести інший тренінг, або ще краще - подумати про те, що можливо не тренінг впливає на продуктивність співробітників, а щось інше."
   ]
  }
 ],
 "metadata": {
  "colab": {
   "provenance": []
  },
  "kernelspec": {
   "display_name": "Python 3 (ipykernel)",
   "language": "python",
   "name": "python3"
  },
  "language_info": {
   "codemirror_mode": {
    "name": "ipython",
    "version": 3
   },
   "file_extension": ".py",
   "mimetype": "text/x-python",
   "name": "python",
   "nbconvert_exporter": "python",
   "pygments_lexer": "ipython3",
   "version": "3.12.8"
  }
 },
 "nbformat": 4,
 "nbformat_minor": 4
}
