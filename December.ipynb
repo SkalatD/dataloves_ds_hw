{
 "cells": [
  {
   "cell_type": "markdown",
   "id": "6aa8909e-92a9-413a-b581-a8cccd9e9f3b",
   "metadata": {
    "editable": true,
    "slideshow": {
     "slide_type": ""
    },
    "tags": []
   },
   "source": [
    "# **Winter**\n",
    "## December"
   ]
  },
  {
   "cell_type": "markdown",
   "id": "4617f9ba-388a-488e-8c6e-bfe44fa93f66",
   "metadata": {},
   "source": [
    "![December](https://www.wilsonsd.org/wp-content/uploads/2017/08/december.jpg)"
   ]
  },
  {
   "cell_type": "code",
   "execution_count": 1,
   "id": "7b42c16c-72b4-4108-ad6e-a42c0b8e3b9d",
   "metadata": {},
   "outputs": [
    {
     "name": "stdout",
     "output_type": "stream",
     "text": [
      "It’s December, and everything is silver and white.\n",
      "The land goes quiet as the winter light bathes it.\n",
      "Branch tips that aren’t covered in anything but frost are reaching for the sky.\n",
      "As the world slows down, a calm and gentle start.\n"
     ]
    }
   ],
   "source": [
    "print(\"It’s December, and everything is silver and white.\\nThe land goes quiet as the winter light bathes it.\\nBranch tips that aren’t covered in anything but frost are reaching for the sky.\\nAs the world slows down, a calm and gentle start.\")"
   ]
  },
  {
   "cell_type": "code",
   "execution_count": 13,
   "id": "4e7df39f-fc3e-459f-9377-5e0b12080e02",
   "metadata": {},
   "outputs": [],
   "source": [
    "month = \"december\"\n",
    "dec = 12\n",
    "dec_ln = 31\n",
    "julik = \"julian\"\n",
    "greg = \"gregorian\""
   ]
  },
  {
   "cell_type": "code",
   "execution_count": 5,
   "id": "1535edd6-32cd-4192-8627-cda01612642c",
   "metadata": {},
   "outputs": [
    {
     "name": "stdout",
     "output_type": "stream",
     "text": [
      "December is the 12th and final month of the year in the Julian and Gregorian calendars. Its length is 31 days.\n"
     ]
    }
   ],
   "source": [
    "print(f\"{month.title()} is the {dec}th and final month of the year in the {julik.title()} and {greg.title()} calendars. Its length is {dec_ln} days.\")"
   ]
  },
  {
   "cell_type": "code",
   "execution_count": 10,
   "id": "db29db8c-1e80-4883-ba87-02b29fd41879",
   "metadata": {},
   "outputs": [
    {
     "name": "stdout",
     "output_type": "stream",
     "text": [
      "   December 2024\n",
      "Mo Tu We Th Fr Sa Su\n",
      "                   1\n",
      " 2  3  4  5  6  7  8\n",
      " 9 10 11 12 13 14 15\n",
      "16 17 18 19 20 21 22\n",
      "23 24 25 26 27 28 29\n",
      "30 31\n",
      "\n"
     ]
    }
   ],
   "source": [
    "import calendar\n",
    "\n",
    "yy = 2024\n",
    "mm = 12\n",
    "december = calendar.month(yy, mm)\n",
    "\n",
    "print(december)"
   ]
  },
  {
   "cell_type": "code",
   "execution_count": 31,
   "id": "ff174126-183b-4007-86cf-1b69a0001c88",
   "metadata": {},
   "outputs": [
    {
     "data": {
      "image/png": "[encoded data removed]",
      "text/plain": [
       "<Figure size 300x300 with 1 Axes>"
      ]
     },
     "metadata": {},
     "output_type": "display_data"
    }
   ],
   "source": [
    "import matplotlib.pyplot as plt\n",
    "import numpy as np\n",
    "\n",
    "def koch_snowflake(order, scale=1):\n",
    "    \"\"\" Generate the points for the Koch snowflake of a given order \"\"\"\n",
    "    def koch_segment(p1, p2, order):\n",
    "        if order == 0:\n",
    "            return [p1, p2]\n",
    "        else:\n",
    "            dx = p2[0] - p1[0]\n",
    "            dy = p2[1] - p1[1]\n",
    "            p3 = (p1[0] + dx / 3, p1[1] + dy / 3)\n",
    "            p4 = (p1[0] + dx / 2 - np.sqrt(3) * dy / 6, p1[1] + dy / 2 + np.sqrt(3) * dx / 6)\n",
    "            p5 = (p1[0] + 2 * dx / 3, p1[1] + 2 * dy / 3)\n",
    "            return (koch_segment(p1, p3, order - 1) +\n",
    "                    koch_segment(p3, p4, order - 1) +\n",
    "                    koch_segment(p4, p5, order - 1) +\n",
    "                    koch_segment(p5, p2, order - 1))\n",
    "\n",
    "    p1 = (0, 0)\n",
    "    p2 = (scale, 0)\n",
    "    p3 = (scale / 2, np.sqrt(3) * scale / 2)\n",
    "    return (koch_segment(p1, p2, order) +\n",
    "            koch_segment(p2, p3, order) +\n",
    "            koch_segment(p3, p1, order))\n",
    "\n",
    "# Generate snowflake points\n",
    "order = 5  # Increase for more complexity\n",
    "points = koch_snowflake(order)\n",
    "x, y = zip(*points)\n",
    "\n",
    "# Plot snowflake\n",
    "plt.figure(figsize=(3, 3))\n",
    "plt.plot(x, y, color=\"cyan\")\n",
    "plt.axis(\"off\")\n",
    "plt.title(\"DataLoves Snowflake\", color=\"blue\")\n",
    "plt.show()"
   ]
  },
  {
   "cell_type": "markdown",
   "id": "3d4478b5-ca40-408f-acc5-f0953d784077",
   "metadata": {},
   "source": [
    "## January"
   ]
  },
  {
   "cell_type": "code",
   "execution_count": 22,
   "id": "68ebc61b-ded1-4e3f-b889-8683455c9afb",
   "metadata": {},
   "outputs": [],
   "source": [
    "blabla = \"Loading...\""
   ]
  },
  {
   "cell_type": "code",
   "execution_count": 27,
   "id": "e5fa6da6-0bad-4ff5-b77f-04860c50008a",
   "metadata": {},
   "outputs": [
    {
     "name": "stdout",
     "output_type": "stream",
     "text": [
      "L\n",
      " o\n",
      "  a\n",
      "   d\n",
      "    i\n",
      "     n\n",
      "      g\n",
      "       .\n",
      "        .\n",
      "         .\n"
     ]
    }
   ],
   "source": [
    "import time\n",
    "blank = \"\"\n",
    "\n",
    "for letter in blabla:\n",
    "    print(blank + letter)\n",
    "    blank += \" \"\n",
    "    time.sleep(0.2)"
   ]
  },
  {
   "cell_type": "markdown",
   "id": "9bc04b14-f323-4a40-ba16-39d36a4c0e31",
   "metadata": {},
   "source": [
    "*Thank you for your attention!*"
   ]
  }
 ],
 "metadata": {
  "kernelspec": {
   "display_name": "Python 3 (ipykernel)",
   "language": "python",
   "name": "python3"
  },
  "language_info": {
   "codemirror_mode": {
    "name": "ipython",
    "version": 3
   },
   "file_extension": ".py",
   "mimetype": "text/x-python",
   "name": "python",
   "nbconvert_exporter": "python",
   "pygments_lexer": "ipython3",
   "version": "3.12.8"
  }
 },
 "nbformat": 4,
 "nbformat_minor": 5
}
